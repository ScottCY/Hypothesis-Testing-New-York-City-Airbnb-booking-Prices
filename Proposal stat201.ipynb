{
 "cells": [
  {
   "cell_type": "markdown",
   "id": "e8a3b083-f283-4a17-a247-960e5038d2fc",
   "metadata": {},
   "source": [
    "# Hypothesis Testing: Data Science salary comparision in different place."
   ]
  },
  {
   "cell_type": "markdown",
   "id": "78164177-951c-4794-83db-50e0f348d02a",
   "metadata": {},
   "source": [
    "## Section 1. Introduction"
   ]
  },
  {
   "cell_type": "markdown",
   "id": "5a77e8df-b17b-4656-bb02-19999a042d55",
   "metadata": {},
   "source": [
    "Focusing on comparing whether there is a difference data science job's salary in Europe and North America."
   ]
  },
  {
   "cell_type": "markdown",
   "id": "c9382247-2236-4836-833b-e594827cfe46",
   "metadata": {},
   "source": [
    "## Section 2. Preliminary Results"
   ]
  },
  {
   "cell_type": "code",
   "execution_count": 57,
   "id": "70d6331f-39a7-41b5-b776-67e71a8a6ca8",
   "metadata": {},
   "outputs": [],
   "source": [
    "# load necessary packages\n",
    "library(infer)\n",
    "library(tidyverse)\n",
    "library(cowplot)"
   ]
  },
  {
   "cell_type": "code",
   "execution_count": 6,
   "id": "9c5f031b-5536-487e-894c-99ca5cd44eb3",
   "metadata": {},
   "outputs": [
    {
     "data": {
      "text/html": [
       "<table class=\"dataframe\">\n",
       "<caption>A data.frame: 6 × 12</caption>\n",
       "<thead>\n",
       "\t<tr><th></th><th scope=col>X</th><th scope=col>work_year</th><th scope=col>experience_level</th><th scope=col>employment_type</th><th scope=col>job_title</th><th scope=col>salary</th><th scope=col>salary_currency</th><th scope=col>salary_in_usd</th><th scope=col>employee_residence</th><th scope=col>remote_ratio</th><th scope=col>company_location</th><th scope=col>company_size</th></tr>\n",
       "\t<tr><th></th><th scope=col>&lt;int&gt;</th><th scope=col>&lt;int&gt;</th><th scope=col>&lt;chr&gt;</th><th scope=col>&lt;chr&gt;</th><th scope=col>&lt;chr&gt;</th><th scope=col>&lt;int&gt;</th><th scope=col>&lt;chr&gt;</th><th scope=col>&lt;int&gt;</th><th scope=col>&lt;chr&gt;</th><th scope=col>&lt;int&gt;</th><th scope=col>&lt;chr&gt;</th><th scope=col>&lt;chr&gt;</th></tr>\n",
       "</thead>\n",
       "<tbody>\n",
       "\t<tr><th scope=row>1</th><td>0</td><td>2020</td><td>MI</td><td>FT</td><td>Data Scientist            </td><td> 70000</td><td>EUR</td><td> 79833</td><td>DE</td><td>  0</td><td>DE</td><td>L</td></tr>\n",
       "\t<tr><th scope=row>2</th><td>1</td><td>2020</td><td>SE</td><td>FT</td><td>Machine Learning Scientist</td><td>260000</td><td>USD</td><td>260000</td><td>JP</td><td>  0</td><td>JP</td><td>S</td></tr>\n",
       "\t<tr><th scope=row>3</th><td>2</td><td>2020</td><td>SE</td><td>FT</td><td>Big Data Engineer         </td><td> 85000</td><td>GBP</td><td>109024</td><td>GB</td><td> 50</td><td>GB</td><td>M</td></tr>\n",
       "\t<tr><th scope=row>4</th><td>3</td><td>2020</td><td>MI</td><td>FT</td><td>Product Data Analyst      </td><td> 20000</td><td>USD</td><td> 20000</td><td>HN</td><td>  0</td><td>HN</td><td>S</td></tr>\n",
       "\t<tr><th scope=row>5</th><td>4</td><td>2020</td><td>SE</td><td>FT</td><td>Machine Learning Engineer </td><td>150000</td><td>USD</td><td>150000</td><td>US</td><td> 50</td><td>US</td><td>L</td></tr>\n",
       "\t<tr><th scope=row>6</th><td>5</td><td>2020</td><td>EN</td><td>FT</td><td>Data Analyst              </td><td> 72000</td><td>USD</td><td> 72000</td><td>US</td><td>100</td><td>US</td><td>L</td></tr>\n",
       "</tbody>\n",
       "</table>\n"
      ],
      "text/latex": [
       "A data.frame: 6 × 12\n",
       "\\begin{tabular}{r|llllllllllll}\n",
       "  & X & work\\_year & experience\\_level & employment\\_type & job\\_title & salary & salary\\_currency & salary\\_in\\_usd & employee\\_residence & remote\\_ratio & company\\_location & company\\_size\\\\\n",
       "  & <int> & <int> & <chr> & <chr> & <chr> & <int> & <chr> & <int> & <chr> & <int> & <chr> & <chr>\\\\\n",
       "\\hline\n",
       "\t1 & 0 & 2020 & MI & FT & Data Scientist             &  70000 & EUR &  79833 & DE &   0 & DE & L\\\\\n",
       "\t2 & 1 & 2020 & SE & FT & Machine Learning Scientist & 260000 & USD & 260000 & JP &   0 & JP & S\\\\\n",
       "\t3 & 2 & 2020 & SE & FT & Big Data Engineer          &  85000 & GBP & 109024 & GB &  50 & GB & M\\\\\n",
       "\t4 & 3 & 2020 & MI & FT & Product Data Analyst       &  20000 & USD &  20000 & HN &   0 & HN & S\\\\\n",
       "\t5 & 4 & 2020 & SE & FT & Machine Learning Engineer  & 150000 & USD & 150000 & US &  50 & US & L\\\\\n",
       "\t6 & 5 & 2020 & EN & FT & Data Analyst               &  72000 & USD &  72000 & US & 100 & US & L\\\\\n",
       "\\end{tabular}\n"
      ],
      "text/markdown": [
       "\n",
       "A data.frame: 6 × 12\n",
       "\n",
       "| <!--/--> | X &lt;int&gt; | work_year &lt;int&gt; | experience_level &lt;chr&gt; | employment_type &lt;chr&gt; | job_title &lt;chr&gt; | salary &lt;int&gt; | salary_currency &lt;chr&gt; | salary_in_usd &lt;int&gt; | employee_residence &lt;chr&gt; | remote_ratio &lt;int&gt; | company_location &lt;chr&gt; | company_size &lt;chr&gt; |\n",
       "|---|---|---|---|---|---|---|---|---|---|---|---|---|\n",
       "| 1 | 0 | 2020 | MI | FT | Data Scientist             |  70000 | EUR |  79833 | DE |   0 | DE | L |\n",
       "| 2 | 1 | 2020 | SE | FT | Machine Learning Scientist | 260000 | USD | 260000 | JP |   0 | JP | S |\n",
       "| 3 | 2 | 2020 | SE | FT | Big Data Engineer          |  85000 | GBP | 109024 | GB |  50 | GB | M |\n",
       "| 4 | 3 | 2020 | MI | FT | Product Data Analyst       |  20000 | USD |  20000 | HN |   0 | HN | S |\n",
       "| 5 | 4 | 2020 | SE | FT | Machine Learning Engineer  | 150000 | USD | 150000 | US |  50 | US | L |\n",
       "| 6 | 5 | 2020 | EN | FT | Data Analyst               |  72000 | USD |  72000 | US | 100 | US | L |\n",
       "\n"
      ],
      "text/plain": [
       "  X work_year experience_level employment_type job_title                 \n",
       "1 0 2020      MI               FT              Data Scientist            \n",
       "2 1 2020      SE               FT              Machine Learning Scientist\n",
       "3 2 2020      SE               FT              Big Data Engineer         \n",
       "4 3 2020      MI               FT              Product Data Analyst      \n",
       "5 4 2020      SE               FT              Machine Learning Engineer \n",
       "6 5 2020      EN               FT              Data Analyst              \n",
       "  salary salary_currency salary_in_usd employee_residence remote_ratio\n",
       "1  70000 EUR              79833        DE                   0         \n",
       "2 260000 USD             260000        JP                   0         \n",
       "3  85000 GBP             109024        GB                  50         \n",
       "4  20000 USD              20000        HN                   0         \n",
       "5 150000 USD             150000        US                  50         \n",
       "6  72000 USD              72000        US                 100         \n",
       "  company_location company_size\n",
       "1 DE               L           \n",
       "2 JP               S           \n",
       "3 GB               M           \n",
       "4 HN               S           \n",
       "5 US               L           \n",
       "6 US               L           "
      ]
     },
     "metadata": {},
     "output_type": "display_data"
    }
   ],
   "source": [
    "raw_salary <- read.csv(\"https://raw.githubusercontent.com/YuluDuan/Hypothesis-Testing-New-York-City-Airbnb-booking-Prices/main/ds_salaries.csv\")\n",
    "\n",
    "head(raw_salary)"
   ]
  },
  {
   "cell_type": "markdown",
   "id": "71caa7c4-3f3e-4be2-9488-e0c1896b453f",
   "metadata": {},
   "source": [
    "In this project, as we would focus on analyzing the salary in both Europe and North America, it is important to first filter out all the data that belongs to that two countries and select the necessary column (i.e. location and salary_in_usd)."
   ]
  },
  {
   "cell_type": "code",
   "execution_count": 11,
   "id": "628b1a0d-071a-480a-8c24-af8a694663de",
   "metadata": {},
   "outputs": [
    {
     "data": {
      "text/html": [
       "<style>\n",
       ".list-inline {list-style: none; margin:0; padding: 0}\n",
       ".list-inline>li {display: inline-block}\n",
       ".list-inline>li:not(:last-child)::after {content: \"\\00b7\"; padding: 0 .5ex}\n",
       "</style>\n",
       "<ol class=list-inline><li>'DE'</li><li>'JP'</li><li>'GB'</li><li>'HN'</li><li>'US'</li><li>'HU'</li><li>'NZ'</li><li>'FR'</li><li>'IN'</li><li>'PK'</li><li>'CN'</li><li>'GR'</li><li>'AE'</li><li>'NL'</li><li>'MX'</li><li>'CA'</li><li>'AT'</li><li>'NG'</li><li>'ES'</li><li>'PT'</li><li>'DK'</li><li>'IT'</li><li>'HR'</li><li>'LU'</li><li>'PL'</li><li>'SG'</li><li>'RO'</li><li>'IQ'</li><li>'BR'</li><li>'BE'</li><li>'UA'</li><li>'IL'</li><li>'RU'</li><li>'MT'</li><li>'CL'</li><li>'IR'</li><li>'CO'</li><li>'MD'</li><li>'KE'</li><li>'SI'</li><li>'CH'</li><li>'VN'</li><li>'AS'</li><li>'TR'</li><li>'CZ'</li><li>'DZ'</li><li>'EE'</li><li>'MY'</li><li>'AU'</li><li>'IE'</li></ol>\n"
      ],
      "text/latex": [
       "\\begin{enumerate*}\n",
       "\\item 'DE'\n",
       "\\item 'JP'\n",
       "\\item 'GB'\n",
       "\\item 'HN'\n",
       "\\item 'US'\n",
       "\\item 'HU'\n",
       "\\item 'NZ'\n",
       "\\item 'FR'\n",
       "\\item 'IN'\n",
       "\\item 'PK'\n",
       "\\item 'CN'\n",
       "\\item 'GR'\n",
       "\\item 'AE'\n",
       "\\item 'NL'\n",
       "\\item 'MX'\n",
       "\\item 'CA'\n",
       "\\item 'AT'\n",
       "\\item 'NG'\n",
       "\\item 'ES'\n",
       "\\item 'PT'\n",
       "\\item 'DK'\n",
       "\\item 'IT'\n",
       "\\item 'HR'\n",
       "\\item 'LU'\n",
       "\\item 'PL'\n",
       "\\item 'SG'\n",
       "\\item 'RO'\n",
       "\\item 'IQ'\n",
       "\\item 'BR'\n",
       "\\item 'BE'\n",
       "\\item 'UA'\n",
       "\\item 'IL'\n",
       "\\item 'RU'\n",
       "\\item 'MT'\n",
       "\\item 'CL'\n",
       "\\item 'IR'\n",
       "\\item 'CO'\n",
       "\\item 'MD'\n",
       "\\item 'KE'\n",
       "\\item 'SI'\n",
       "\\item 'CH'\n",
       "\\item 'VN'\n",
       "\\item 'AS'\n",
       "\\item 'TR'\n",
       "\\item 'CZ'\n",
       "\\item 'DZ'\n",
       "\\item 'EE'\n",
       "\\item 'MY'\n",
       "\\item 'AU'\n",
       "\\item 'IE'\n",
       "\\end{enumerate*}\n"
      ],
      "text/markdown": [
       "1. 'DE'\n",
       "2. 'JP'\n",
       "3. 'GB'\n",
       "4. 'HN'\n",
       "5. 'US'\n",
       "6. 'HU'\n",
       "7. 'NZ'\n",
       "8. 'FR'\n",
       "9. 'IN'\n",
       "10. 'PK'\n",
       "11. 'CN'\n",
       "12. 'GR'\n",
       "13. 'AE'\n",
       "14. 'NL'\n",
       "15. 'MX'\n",
       "16. 'CA'\n",
       "17. 'AT'\n",
       "18. 'NG'\n",
       "19. 'ES'\n",
       "20. 'PT'\n",
       "21. 'DK'\n",
       "22. 'IT'\n",
       "23. 'HR'\n",
       "24. 'LU'\n",
       "25. 'PL'\n",
       "26. 'SG'\n",
       "27. 'RO'\n",
       "28. 'IQ'\n",
       "29. 'BR'\n",
       "30. 'BE'\n",
       "31. 'UA'\n",
       "32. 'IL'\n",
       "33. 'RU'\n",
       "34. 'MT'\n",
       "35. 'CL'\n",
       "36. 'IR'\n",
       "37. 'CO'\n",
       "38. 'MD'\n",
       "39. 'KE'\n",
       "40. 'SI'\n",
       "41. 'CH'\n",
       "42. 'VN'\n",
       "43. 'AS'\n",
       "44. 'TR'\n",
       "45. 'CZ'\n",
       "46. 'DZ'\n",
       "47. 'EE'\n",
       "48. 'MY'\n",
       "49. 'AU'\n",
       "50. 'IE'\n",
       "\n",
       "\n"
      ],
      "text/plain": [
       " [1] \"DE\" \"JP\" \"GB\" \"HN\" \"US\" \"HU\" \"NZ\" \"FR\" \"IN\" \"PK\" \"CN\" \"GR\" \"AE\" \"NL\" \"MX\"\n",
       "[16] \"CA\" \"AT\" \"NG\" \"ES\" \"PT\" \"DK\" \"IT\" \"HR\" \"LU\" \"PL\" \"SG\" \"RO\" \"IQ\" \"BR\" \"BE\"\n",
       "[31] \"UA\" \"IL\" \"RU\" \"MT\" \"CL\" \"IR\" \"CO\" \"MD\" \"KE\" \"SI\" \"CH\" \"VN\" \"AS\" \"TR\" \"CZ\"\n",
       "[46] \"DZ\" \"EE\" \"MY\" \"AU\" \"IE\""
      ]
     },
     "metadata": {},
     "output_type": "display_data"
    }
   ],
   "source": [
    "# by checking all the countries in this list, first find out the countries that belongs to Europe and North America.\n",
    "\n",
    "unique(raw_salary$company_location)\n",
    "na <- c(\"US\", \"MX\",\"CA\")\n",
    "eur <- c(\"DE\", \"GB\", \"HU\", \"FR\", \"GR\", \"NL\", \"AT\", \"ES\", \"PT\", \"DK\", \"IT\", \"HR\", \"LU\"\n",
    "         ,\"PL\", \"RO\", \"BE\", \"UA\", \"RU\", \"MT\", \"MD\", \"SI\", \"CH\", \"CZ\", \"EE\", \"IE\")"
   ]
  },
  {
   "cell_type": "code",
   "execution_count": 76,
   "id": "467bb3b7-d79d-4b9f-937f-3e6d963c89c1",
   "metadata": {},
   "outputs": [],
   "source": [
    "# fliter out all rows belong to Europe and North America, save them to a new column called \"location\"\n",
    "\n",
    "ds_salary <- raw_salary %>%\n",
    "    filter(company_location %in% append(na, eur)) %>%\n",
    "    mutate(location = \"North America\")\n",
    "\n",
    "ds_salary$location[ds_salary$company_location %in% eur] <- \"Europe\"\n",
    "\n",
    "ds_salary$location <- as.factor(ds_salary$location)"
   ]
  },
  {
   "cell_type": "code",
   "execution_count": 77,
   "id": "690107bb-b239-4315-b558-b85a46483c5e",
   "metadata": {},
   "outputs": [
    {
     "data": {
      "image/png": "[encoded data removed]",
      "text/plain": [
       "plot without title"
      ]
     },
     "metadata": {
      "image/png": {
       "height": 420,
       "width": 420
      }
     },
     "output_type": "display_data"
    },
    {
     "data": {
      "image/png": "[encoded data removed]",
      "text/plain": [
       "plot without title"
      ]
     },
     "metadata": {
      "image/png": {
       "height": 420,
       "width": 420
      }
     },
     "output_type": "display_data"
    }
   ],
   "source": [
    "boxplot(ds_salary$salary_in_usd[ds_salary$location == \"Europe\"]  ~ ds_salary$experience_level[ds_salary$location == \"Europe\"], xlab = \"experience level\",\n",
    "    ylab= \"Salary\")\n",
    "boxplot(ds_salary$salary_in_usd[ds_salary$location == \"North America\"]  ~ ds_salary$experience_level[ds_salary$location == \"North America\"], , xlab = \"experience level\",\n",
    "    ylab= \"Salary\") "
   ]
  },
  {
   "cell_type": "markdown",
   "id": "c2e7ac15-2a43-4519-896c-5f0fdffab048",
   "metadata": {},
   "source": [
    "Looking at other factors in our dataset, we think the experience_level might be another factor that would influence the salary. By looking at the salary, we can see that the \"EX\" group deviates a lot from the other three groups. Hence, to control the influence of experience_level in our analysis, we decided to use data from experience_level of \"EN\", \"MI\" and \"SE\"."
   ]
  },
  {
   "cell_type": "code",
   "execution_count": 80,
   "id": "1d91b4ad-ab0c-4690-a456-81dfe4b1237a",
   "metadata": {},
   "outputs": [
    {
     "data": {
      "text/html": [
       "<style>\n",
       ".dl-inline {width: auto; margin:0; padding: 0}\n",
       ".dl-inline>dt, .dl-inline>dd {float: none; width: auto; display: inline-block}\n",
       ".dl-inline>dt::after {content: \":\\0020\"; padding-right: .5ex}\n",
       ".dl-inline>dt:not(:first-of-type) {padding-left: .5ex}\n",
       "</style><dl class=dl-inline><dt>Europe</dt><dd>150</dd><dt>North America</dt><dd>370</dd></dl>\n"
      ],
      "text/latex": [
       "\\begin{description*}\n",
       "\\item[Europe] 150\n",
       "\\item[North America] 370\n",
       "\\end{description*}\n"
      ],
      "text/markdown": [
       "Europe\n",
       ":   150North America\n",
       ":   370\n",
       "\n"
      ],
      "text/plain": [
       "       Europe North America \n",
       "          150           370 "
      ]
     },
     "metadata": {},
     "output_type": "display_data"
    },
    {
     "data": {
      "text/html": [
       "<table class=\"dataframe\">\n",
       "<caption>A data.frame: 6 × 2</caption>\n",
       "<thead>\n",
       "\t<tr><th></th><th scope=col>salary_in_usd</th><th scope=col>location</th></tr>\n",
       "\t<tr><th></th><th scope=col>&lt;int&gt;</th><th scope=col>&lt;fct&gt;</th></tr>\n",
       "</thead>\n",
       "<tbody>\n",
       "\t<tr><th scope=row>1</th><td> 79833</td><td>Europe       </td></tr>\n",
       "\t<tr><th scope=row>2</th><td>109024</td><td>Europe       </td></tr>\n",
       "\t<tr><th scope=row>3</th><td>150000</td><td>North America</td></tr>\n",
       "\t<tr><th scope=row>4</th><td> 72000</td><td>North America</td></tr>\n",
       "\t<tr><th scope=row>5</th><td>190000</td><td>North America</td></tr>\n",
       "\t<tr><th scope=row>6</th><td> 35735</td><td>Europe       </td></tr>\n",
       "</tbody>\n",
       "</table>\n"
      ],
      "text/latex": [
       "A data.frame: 6 × 2\n",
       "\\begin{tabular}{r|ll}\n",
       "  & salary\\_in\\_usd & location\\\\\n",
       "  & <int> & <fct>\\\\\n",
       "\\hline\n",
       "\t1 &  79833 & Europe       \\\\\n",
       "\t2 & 109024 & Europe       \\\\\n",
       "\t3 & 150000 & North America\\\\\n",
       "\t4 &  72000 & North America\\\\\n",
       "\t5 & 190000 & North America\\\\\n",
       "\t6 &  35735 & Europe       \\\\\n",
       "\\end{tabular}\n"
      ],
      "text/markdown": [
       "\n",
       "A data.frame: 6 × 2\n",
       "\n",
       "| <!--/--> | salary_in_usd &lt;int&gt; | location &lt;fct&gt; |\n",
       "|---|---|---|\n",
       "| 1 |  79833 | Europe        |\n",
       "| 2 | 109024 | Europe        |\n",
       "| 3 | 150000 | North America |\n",
       "| 4 |  72000 | North America |\n",
       "| 5 | 190000 | North America |\n",
       "| 6 |  35735 | Europe        |\n",
       "\n"
      ],
      "text/plain": [
       "  salary_in_usd location     \n",
       "1  79833        Europe       \n",
       "2 109024        Europe       \n",
       "3 150000        North America\n",
       "4  72000        North America\n",
       "5 190000        North America\n",
       "6  35735        Europe       "
      ]
     },
     "metadata": {},
     "output_type": "display_data"
    }
   ],
   "source": [
    "ds_final <- ds_salary %>%\n",
    "    filter(experience_level != \"EX\") %>%\n",
    "    select(salary_in_usd, location)\n",
    "summary(ds_final$location)\n",
    "head(ds_final)"
   ]
  },
  {
   "cell_type": "markdown",
   "id": "a8d86a1a-e8cb-4dc6-93ba-74654448c90c",
   "metadata": {},
   "source": [
    "Now, we get our final dataset, and we would now draw some plots to do some explanatory analysis."
   ]
  },
  {
   "cell_type": "markdown",
   "id": "cd971320-4705-47ac-9450-07cb7f2cf32c",
   "metadata": {},
   "source": [
    "## Section 3. Methods: Plan"
   ]
  },
  {
   "cell_type": "code",
   "execution_count": null,
   "id": "72ecbafb-27a8-4a94-8e00-67609a97c526",
   "metadata": {},
   "outputs": [],
   "source": []
  }
 ],
 "metadata": {
  "kernelspec": {
   "display_name": "R",
   "language": "R",
   "name": "ir"
  },
  "language_info": {
   "codemirror_mode": "r",
   "file_extension": ".r",
   "mimetype": "text/x-r-source",
   "name": "R",
   "pygments_lexer": "r",
   "version": "4.2.2"
  }
 },
 "nbformat": 4,
 "nbformat_minor": 5
}
