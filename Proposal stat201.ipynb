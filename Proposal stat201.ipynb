{
 "cells": [
  {
   "cell_type": "markdown",
   "id": "e8a3b083-f283-4a17-a247-960e5038d2fc",
   "metadata": {},
   "source": [
    "# Hypothesis Testing: New York City Airbnb booking Prices"
   ]
  },
  {
   "cell_type": "markdown",
   "id": "78164177-951c-4794-83db-50e0f348d02a",
   "metadata": {},
   "source": [
    "## Section 1. Introduction"
   ]
  },
  {
   "cell_type": "code",
   "execution_count": null,
   "id": "4970d6c9-79d6-4d00-89d1-585aeecaf4c5",
   "metadata": {},
   "outputs": [],
   "source": []
  },
  {
   "cell_type": "markdown",
   "id": "c9382247-2236-4836-833b-e594827cfe46",
   "metadata": {},
   "source": [
    "## Section 2. Preliminary Results"
   ]
  },
  {
   "cell_type": "code",
   "execution_count": 4,
   "id": "9c5f031b-5536-487e-894c-99ca5cd44eb3",
   "metadata": {},
   "outputs": [
    {
     "data": {
      "text/html": [
       "<table class=\"dataframe\">\n",
       "<caption>A data.frame: 6 × 16</caption>\n",
       "<thead>\n",
       "\t<tr><th></th><th scope=col>id</th><th scope=col>name</th><th scope=col>host_id</th><th scope=col>host_name</th><th scope=col>neighbourhood_group</th><th scope=col>neighbourhood</th><th scope=col>latitude</th><th scope=col>longitude</th><th scope=col>room_type</th><th scope=col>price</th><th scope=col>minimum_nights</th><th scope=col>number_of_reviews</th><th scope=col>last_review</th><th scope=col>reviews_per_month</th><th scope=col>calculated_host_listings_count</th><th scope=col>availability_365</th></tr>\n",
       "\t<tr><th></th><th scope=col>&lt;int&gt;</th><th scope=col>&lt;chr&gt;</th><th scope=col>&lt;int&gt;</th><th scope=col>&lt;chr&gt;</th><th scope=col>&lt;chr&gt;</th><th scope=col>&lt;chr&gt;</th><th scope=col>&lt;dbl&gt;</th><th scope=col>&lt;dbl&gt;</th><th scope=col>&lt;chr&gt;</th><th scope=col>&lt;int&gt;</th><th scope=col>&lt;int&gt;</th><th scope=col>&lt;int&gt;</th><th scope=col>&lt;chr&gt;</th><th scope=col>&lt;dbl&gt;</th><th scope=col>&lt;int&gt;</th><th scope=col>&lt;int&gt;</th></tr>\n",
       "</thead>\n",
       "<tbody>\n",
       "\t<tr><th scope=row>1</th><td>2539</td><td><span style=white-space:pre-wrap>Clean &amp; quiet apt home by the park              </span></td><td>2787</td><td><span style=white-space:pre-wrap>John       </span></td><td>Brooklyn </td><td><span style=white-space:pre-wrap>Kensington  </span></td><td>40.64749</td><td>-73.97237</td><td><span style=white-space:pre-wrap>Private room   </span></td><td>149</td><td> 1</td><td><span style=white-space:pre-wrap>  9</span></td><td>2018-10-19</td><td>0.21</td><td>6</td><td>365</td></tr>\n",
       "\t<tr><th scope=row>2</th><td>2595</td><td>Skylit Midtown Castle                           </td><td>2845</td><td>Jennifer   </td><td>Manhattan</td><td>Midtown     </td><td>40.75362</td><td>-73.98377</td><td>Entire home/apt</td><td>225</td><td> 1</td><td> 45</td><td>2019-05-21</td><td>0.38</td><td>2</td><td>355</td></tr>\n",
       "\t<tr><th scope=row>3</th><td>3647</td><td>THE VILLAGE OF HARLEM....NEW YORK !             </td><td>4632</td><td>Elisabeth  </td><td>Manhattan</td><td>Harlem      </td><td>40.80902</td><td>-73.94190</td><td>Private room   </td><td>150</td><td> 3</td><td>  0</td><td>          </td><td>  NA</td><td>1</td><td>365</td></tr>\n",
       "\t<tr><th scope=row>4</th><td>3831</td><td>Cozy Entire Floor of Brownstone                 </td><td>4869</td><td>LisaRoxanne</td><td>Brooklyn </td><td>Clinton Hill</td><td>40.68514</td><td>-73.95976</td><td>Entire home/apt</td><td> 89</td><td> 1</td><td>270</td><td>2019-07-05</td><td>4.64</td><td>1</td><td>194</td></tr>\n",
       "\t<tr><th scope=row>5</th><td>5022</td><td>Entire Apt: Spacious Studio/Loft by central park</td><td>7192</td><td>Laura      </td><td>Manhattan</td><td>East Harlem </td><td>40.79851</td><td>-73.94399</td><td>Entire home/apt</td><td> 80</td><td>10</td><td>  9</td><td>2018-11-19</td><td>0.10</td><td>1</td><td>  0</td></tr>\n",
       "\t<tr><th scope=row>6</th><td>5099</td><td>Large Cozy 1 BR Apartment In Midtown East       </td><td>7322</td><td>Chris      </td><td>Manhattan</td><td>Murray Hill </td><td>40.74767</td><td>-73.97500</td><td>Entire home/apt</td><td>200</td><td> 3</td><td> 74</td><td>2019-06-22</td><td>0.59</td><td>1</td><td>129</td></tr>\n",
       "</tbody>\n",
       "</table>\n"
      ],
      "text/latex": [
       "A data.frame: 6 × 16\n",
       "\\begin{tabular}{r|llllllllllllllll}\n",
       "  & id & name & host\\_id & host\\_name & neighbourhood\\_group & neighbourhood & latitude & longitude & room\\_type & price & minimum\\_nights & number\\_of\\_reviews & last\\_review & reviews\\_per\\_month & calculated\\_host\\_listings\\_count & availability\\_365\\\\\n",
       "  & <int> & <chr> & <int> & <chr> & <chr> & <chr> & <dbl> & <dbl> & <chr> & <int> & <int> & <int> & <chr> & <dbl> & <int> & <int>\\\\\n",
       "\\hline\n",
       "\t1 & 2539 & Clean \\& quiet apt home by the park               & 2787 & John        & Brooklyn  & Kensington   & 40.64749 & -73.97237 & Private room    & 149 &  1 &   9 & 2018-10-19 & 0.21 & 6 & 365\\\\\n",
       "\t2 & 2595 & Skylit Midtown Castle                            & 2845 & Jennifer    & Manhattan & Midtown      & 40.75362 & -73.98377 & Entire home/apt & 225 &  1 &  45 & 2019-05-21 & 0.38 & 2 & 355\\\\\n",
       "\t3 & 3647 & THE VILLAGE OF HARLEM....NEW YORK !              & 4632 & Elisabeth   & Manhattan & Harlem       & 40.80902 & -73.94190 & Private room    & 150 &  3 &   0 &            &   NA & 1 & 365\\\\\n",
       "\t4 & 3831 & Cozy Entire Floor of Brownstone                  & 4869 & LisaRoxanne & Brooklyn  & Clinton Hill & 40.68514 & -73.95976 & Entire home/apt &  89 &  1 & 270 & 2019-07-05 & 4.64 & 1 & 194\\\\\n",
       "\t5 & 5022 & Entire Apt: Spacious Studio/Loft by central park & 7192 & Laura       & Manhattan & East Harlem  & 40.79851 & -73.94399 & Entire home/apt &  80 & 10 &   9 & 2018-11-19 & 0.10 & 1 &   0\\\\\n",
       "\t6 & 5099 & Large Cozy 1 BR Apartment In Midtown East        & 7322 & Chris       & Manhattan & Murray Hill  & 40.74767 & -73.97500 & Entire home/apt & 200 &  3 &  74 & 2019-06-22 & 0.59 & 1 & 129\\\\\n",
       "\\end{tabular}\n"
      ],
      "text/markdown": [
       "\n",
       "A data.frame: 6 × 16\n",
       "\n",
       "| <!--/--> | id &lt;int&gt; | name &lt;chr&gt; | host_id &lt;int&gt; | host_name &lt;chr&gt; | neighbourhood_group &lt;chr&gt; | neighbourhood &lt;chr&gt; | latitude &lt;dbl&gt; | longitude &lt;dbl&gt; | room_type &lt;chr&gt; | price &lt;int&gt; | minimum_nights &lt;int&gt; | number_of_reviews &lt;int&gt; | last_review &lt;chr&gt; | reviews_per_month &lt;dbl&gt; | calculated_host_listings_count &lt;int&gt; | availability_365 &lt;int&gt; |\n",
       "|---|---|---|---|---|---|---|---|---|---|---|---|---|---|---|---|---|\n",
       "| 1 | 2539 | Clean &amp; quiet apt home by the park               | 2787 | John        | Brooklyn  | Kensington   | 40.64749 | -73.97237 | Private room    | 149 |  1 |   9 | 2018-10-19 | 0.21 | 6 | 365 |\n",
       "| 2 | 2595 | Skylit Midtown Castle                            | 2845 | Jennifer    | Manhattan | Midtown      | 40.75362 | -73.98377 | Entire home/apt | 225 |  1 |  45 | 2019-05-21 | 0.38 | 2 | 355 |\n",
       "| 3 | 3647 | THE VILLAGE OF HARLEM....NEW YORK !              | 4632 | Elisabeth   | Manhattan | Harlem       | 40.80902 | -73.94190 | Private room    | 150 |  3 |   0 | <!----> |   NA | 1 | 365 |\n",
       "| 4 | 3831 | Cozy Entire Floor of Brownstone                  | 4869 | LisaRoxanne | Brooklyn  | Clinton Hill | 40.68514 | -73.95976 | Entire home/apt |  89 |  1 | 270 | 2019-07-05 | 4.64 | 1 | 194 |\n",
       "| 5 | 5022 | Entire Apt: Spacious Studio/Loft by central park | 7192 | Laura       | Manhattan | East Harlem  | 40.79851 | -73.94399 | Entire home/apt |  80 | 10 |   9 | 2018-11-19 | 0.10 | 1 |   0 |\n",
       "| 6 | 5099 | Large Cozy 1 BR Apartment In Midtown East        | 7322 | Chris       | Manhattan | Murray Hill  | 40.74767 | -73.97500 | Entire home/apt | 200 |  3 |  74 | 2019-06-22 | 0.59 | 1 | 129 |\n",
       "\n"
      ],
      "text/plain": [
       "  id   name                                             host_id host_name  \n",
       "1 2539 Clean & quiet apt home by the park               2787    John       \n",
       "2 2595 Skylit Midtown Castle                            2845    Jennifer   \n",
       "3 3647 THE VILLAGE OF HARLEM....NEW YORK !              4632    Elisabeth  \n",
       "4 3831 Cozy Entire Floor of Brownstone                  4869    LisaRoxanne\n",
       "5 5022 Entire Apt: Spacious Studio/Loft by central park 7192    Laura      \n",
       "6 5099 Large Cozy 1 BR Apartment In Midtown East        7322    Chris      \n",
       "  neighbourhood_group neighbourhood latitude longitude room_type       price\n",
       "1 Brooklyn            Kensington    40.64749 -73.97237 Private room    149  \n",
       "2 Manhattan           Midtown       40.75362 -73.98377 Entire home/apt 225  \n",
       "3 Manhattan           Harlem        40.80902 -73.94190 Private room    150  \n",
       "4 Brooklyn            Clinton Hill  40.68514 -73.95976 Entire home/apt  89  \n",
       "5 Manhattan           East Harlem   40.79851 -73.94399 Entire home/apt  80  \n",
       "6 Manhattan           Murray Hill   40.74767 -73.97500 Entire home/apt 200  \n",
       "  minimum_nights number_of_reviews last_review reviews_per_month\n",
       "1  1               9               2018-10-19  0.21             \n",
       "2  1              45               2019-05-21  0.38             \n",
       "3  3               0                             NA             \n",
       "4  1             270               2019-07-05  4.64             \n",
       "5 10               9               2018-11-19  0.10             \n",
       "6  3              74               2019-06-22  0.59             \n",
       "  calculated_host_listings_count availability_365\n",
       "1 6                              365             \n",
       "2 2                              355             \n",
       "3 1                              365             \n",
       "4 1                              194             \n",
       "5 1                                0             \n",
       "6 1                              129             "
      ]
     },
     "metadata": {},
     "output_type": "display_data"
    }
   ],
   "source": [
    "airbnb <- read.csv(\"https://raw.githubusercontent.com/YuluDuan/Hypothesis-Testing-New-York-City-Airbnb-booking-Prices/main/AB_NYC_2019.csv\")\n",
    "\n",
    "head(airbnb)"
   ]
  },
  {
   "cell_type": "markdown",
   "id": "cd971320-4705-47ac-9450-07cb7f2cf32c",
   "metadata": {},
   "source": [
    "## Section 3. Methods: Plan"
   ]
  },
  {
   "cell_type": "code",
   "execution_count": null,
   "id": "2a534832-c498-4c3e-ac7b-c936bddb2be4",
   "metadata": {},
   "outputs": [],
   "source": []
  }
 ],
 "metadata": {
  "kernelspec": {
   "display_name": "R",
   "language": "R",
   "name": "ir"
  },
  "language_info": {
   "codemirror_mode": "r",
   "file_extension": ".r",
   "mimetype": "text/x-r-source",
   "name": "R",
   "pygments_lexer": "r",
   "version": "4.2.2"
  }
 },
 "nbformat": 4,
 "nbformat_minor": 5
}
