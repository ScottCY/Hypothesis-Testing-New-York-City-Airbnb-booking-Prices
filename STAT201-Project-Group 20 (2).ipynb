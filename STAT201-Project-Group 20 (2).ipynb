{
 "cells": [
  {
   "cell_type": "markdown",
   "id": "e8a3b083-f283-4a17-a247-960e5038d2fc",
   "metadata": {},
   "source": [
    "# Data Science Salary Comparision in Two Different Regions\n",
    "\n",
    "STAT 201 - Final Project \\\n",
    "Group 20 （Yulu Duan, Leo Lin, Chenyue Qian, Violet Yang)"
   ]
  },
  {
   "cell_type": "markdown",
   "id": "78164177-951c-4794-83db-50e0f348d02a",
   "metadata": {},
   "source": [
    "## 1. Introduction"
   ]
  },
  {
   "cell_type": "markdown",
   "id": "8733de39-8bd4-4338-a627-d022e841aa5e",
   "metadata": {},
   "source": [
    "**1.1 Background Information**\n",
    "\n",
    "Data science is undoubtedly one of the most lucrative career options. However, it's crucial to recognize that salary can vary significantly based on factors like location and company (Situ et al., 2017). Therefore, it's essential to weigh all aspects when choosing job offers (Robinson et al., 2020). Hence, analyzing the difference in salary between different regions could provide employees insights to choose a place to start their journey in data science. Data science salary rankings have reported that North America typically offers higher salaries for data science jobs compared to those in Europe (Ganguli, 2021). So in this case, we would like to investigate this statement through the data we have."
   ]
  },
  {
   "cell_type": "markdown",
   "id": "345ee266-9463-41da-9bd0-725e82e393a1",
   "metadata": {},
   "source": [
    "**1.2 Research Question**\n",
    "\n",
    "* Is there evidence to support the claim that data science jobs in North America offer higher salaries than those in Europe?\n",
    "\n",
    "More specifically, we focus on the disparity in data science job salaries between two regions, Europe and North America. Our response variable is the salary, and we will use **difference in mean** salary and **standard deviation** of salary to evaluate this question. \n",
    "\n",
    "Meanwhile, we choose the difference in mean salary to be Mean North America data science job salaries minus Mean Europe data science job salaries. Hence, the parameter we are interested in is $\\mu_{na} - \\mu_{eur}$ and our test statistic is $\\bar{x}_{na} - \\bar{x}_{eur}$, where $\\mu_i$ is the population mean salary in region i, $\\bar{x}_{i}$ is the sample mean salary in region i; $na$ and $eur$ indicates North America and Europe, respectively."
   ]
  },
  {
   "cell_type": "markdown",
   "id": "149833ae-8b51-45a0-a768-0b704804ac00",
   "metadata": {},
   "source": [
    "**1.3 The Dataset**\n",
    "\n",
    "Our dataset is a sample with information regarding the data science jobs’ salaries in different locations during the 2020-2022 (Bhatia, 2022). \n",
    "\n",
    "Below are variables related to our study:\n",
    "\n",
    "1. `company_location` - Country where employer work.\n",
    "2. `location` - Regions where employees work (created by us, either Europa or North America)\n",
    "3. `salary_in_usd` - Salary in USD\n"
   ]
  },
  {
   "cell_type": "markdown",
   "id": "c9382247-2236-4836-833b-e594827cfe46",
   "metadata": {},
   "source": [
    "## 2. Methods and Results"
   ]
  },
  {
   "cell_type": "markdown",
   "id": "9cd7165b-513c-4340-9134-dad53934baea",
   "metadata": {},
   "source": [
    "**2.1 Data Cleaning**"
   ]
  },
  {
   "cell_type": "code",
   "execution_count": null,
   "id": "35ec14fe-5825-4eaf-b75f-d5c661bdbc36",
   "metadata": {
    "tags": []
   },
   "outputs": [
    {
     "name": "stderr",
     "output_type": "stream",
     "text": [
      "Installing package into ‘/home/jupyter/R/x86_64-pc-linux-gnu-library/4.2’\n",
      "(as ‘lib’ is unspecified)\n",
      "\n"
     ]
    }
   ],
   "source": [
    "install.packages(\"infer\")"
   ]
  },
  {
   "cell_type": "code",
   "execution_count": null,
   "id": "70d6331f-39a7-41b5-b776-67e71a8a6ca8",
   "metadata": {
    "tags": []
   },
   "outputs": [],
   "source": [
    "# load necessary packages\n",
    "library(infer)\n",
    "library(tidyverse)\n",
    "library(cowplot)\n",
    "library(broom)"
   ]
  },
  {
   "cell_type": "code",
   "execution_count": null,
   "id": "9c5f031b-5536-487e-894c-99ca5cd44eb3",
   "metadata": {
    "tags": []
   },
   "outputs": [],
   "source": [
    "# load raw data\n",
    "raw_salary <- read.csv(\"https://raw.githubusercontent.com/YuluDuan/Hypothesis-Testing-Data-Science-salary-comparison-in-different-location/main/ds_salaries.csv\")\n",
    "\n",
    "head(raw_salary)"
   ]
  },
  {
   "cell_type": "markdown",
   "id": "71caa7c4-3f3e-4be2-9488-e0c1896b453f",
   "metadata": {},
   "source": [
    "We first clean the data and create the final dataset."
   ]
  },
  {
   "cell_type": "code",
   "execution_count": null,
   "id": "628b1a0d-071a-480a-8c24-af8a694663de",
   "metadata": {
    "tags": []
   },
   "outputs": [],
   "source": [
    "# by checking all the countries appears in the sample data, first find out the countries that belongs to Europe and North America.\n",
    "\n",
    "na <- c(\"US\", \"MX\",\"CA\")\n",
    "eur <- c(\"DE\", \"GB\", \"HU\", \"FR\", \"GR\", \"NL\", \"AT\", \"ES\", \"PT\", \"DK\", \"IT\", \"HR\", \"LU\"\n",
    "         ,\"PL\", \"RO\", \"BE\", \"UA\", \"RU\", \"MT\", \"MD\", \"SI\", \"CH\", \"CZ\", \"EE\", \"IE\")"
   ]
  },
  {
   "cell_type": "code",
   "execution_count": null,
   "id": "467bb3b7-d79d-4b9f-937f-3e6d963c89c1",
   "metadata": {
    "tags": []
   },
   "outputs": [],
   "source": [
    "# fliter out all rows belong to Europe and North America, save them to a new column called \"location\"\n",
    "\n",
    "ds_salary <- raw_salary %>%\n",
    "    filter(company_location %in% append(na, eur)) %>%\n",
    "    mutate(location = \"North America\")\n",
    "\n",
    "ds_salary$location[ds_salary$company_location %in% eur] <- \"Europe\"\n",
    "\n",
    "ds_salary$location <- as.factor(ds_salary$location)"
   ]
  },
  {
   "cell_type": "code",
   "execution_count": null,
   "id": "1d91b4ad-ab0c-4690-a456-81dfe4b1237a",
   "metadata": {
    "tags": []
   },
   "outputs": [],
   "source": [
    "# create the final data set for this project by selecting columns that we would be useful.\n",
    "ds_final <- ds_salary %>%\n",
    "    select(salary_in_usd, location)\n",
    "head(ds_final) # overview of the data"
   ]
  },
  {
   "cell_type": "markdown",
   "id": "09f19bdc-bf61-48a6-bad0-011ce2e2711f",
   "metadata": {},
   "source": [
    "**2.2 Data Summary and Visualization**"
   ]
  },
  {
   "cell_type": "code",
   "execution_count": null,
   "id": "4cb900d9-e0ca-4232-968b-79389857fd2b",
   "metadata": {
    "tags": []
   },
   "outputs": [],
   "source": [
    "# create the summary of the data by setting a table with information about salary\n",
    "ds_eur <- ds_final %>%\n",
    "    filter(location == \"Europe\")\n",
    "ds_na <- ds_final %>%\n",
    "    filter(location == \"North America\") # create two datasets, one for each region\n",
    "\n",
    "summary_eur <- summary(ds_eur$salary_in_usd)\n",
    "summary_na <- summary(ds_na$salary_in_usd)\n",
    "\n",
    "location <- c(\"Europe\", \"North America\")\n",
    "mini <- c(summary_eur[1], summary_na[1])\n",
    "quan_1 <- c(summary_eur[2], summary_na[2])\n",
    "median <- c(summary_eur[3], summary_na[3])\n",
    "mean <- c(summary_eur[4], summary_na[4])\n",
    "quan_3 <- c(summary_eur[5], summary_na[5])\n",
    "max <- c(summary_eur[6], summary_na[6])\n",
    "sample_size <- summary(ds_final$location)\n",
    "sd <- c(sd(ds_eur$salary_in_usd), sd(ds_na$salary_in_usd)) #calculate different kinds of sample summary\n",
    "table1 <- data.frame(minimum_wage = mini, first_quantile = quan_1, \n",
    "                     median_wage = median, mean_wage = mean, third_quantile = quan_3, \n",
    "                     maximum_wage = max, standard_deviation = sd,sample_size)\n",
    "table1"
   ]
  },
  {
   "cell_type": "markdown",
   "id": "841aea65-985a-47b4-ac73-655e8ce7d1b4",
   "metadata": {},
   "source": [
    "<font color='grey'>Table 1. Summary of the Wages in Two Different Locations</font> "
   ]
  },
  {
   "cell_type": "markdown",
   "id": "d948a6db-19a3-4558-8da6-265c7084b633",
   "metadata": {},
   "source": [
    "For Europe, the sample mean salary ($\\bar{x}_{eur}$) is 69358.37; while for North America, the sample mean salary ($\\bar{x}_{na}$) is 139769.85. \\\n",
    "Our **test statistic**, i.e. difference in sample mean ($\\bar{x}_{na} - \\bar{x}_{eur}$), is 70411.48."
   ]
  },
  {
   "cell_type": "code",
   "execution_count": null,
   "id": "abfdc1c7-5f98-4a1d-bf73-edb92459463d",
   "metadata": {
    "tags": []
   },
   "outputs": [],
   "source": [
    "## create the two distributions\n",
    "\n",
    "options(repr.plot.width= 20, repr.plot.height=10) #control the graph size\n",
    "histogram_europe <- ds_final %>% \n",
    "    filter(location == \"Europe\") %>%\n",
    "    ggplot(aes(x = salary_in_usd)) +\n",
    "    geom_histogram(color=\"black\", fill=\"white\", bins = 40) +\n",
    "    theme(text = element_text(size = 22)) +\n",
    "    xlab(\"Salary in USD\") + \n",
    "    ylab(\"count\")+\n",
    "    ggtitle(\"Histogram of Data Science Job Salary in Europe\") + \n",
    "    geom_vline(xintercept = table1$mean_wage[1], color = \"red\", linewidth = 2) + #add the line of sample mean\n",
    "    annotate(\"text\", x = 120000, y = 17, label = \"sample mean: 69358.37\", size = 7) \n",
    "\n",
    "histogram_na <- ds_final %>%\n",
    "    filter(location == \"North America\") %>%\n",
    "    ggplot(aes(x = salary_in_usd),color = 'white') +\n",
    "    geom_histogram(color=\"black\", fill=\"white\",bins = 40) +\n",
    "    theme(text = element_text(size = 22)) + \n",
    "    xlab(\"Salary in USD\") + \n",
    "    ylab(\"count\") +\n",
    "    ggtitle(\"Histogram of Data Science Job Salary in North America\") +\n",
    "    geom_vline(xintercept = table1$mean_wage[2], color = \"red\", linewidth = 2) + #add the line of sample mean\n",
    "    annotate(\"text\", x = 270000, y = 48, label = \"sample mean: 139769.85\", size = 7) +\n",
    "    scale_x_continuous(labels = scales::comma)\n",
    "\n",
    "plot_grid(histogram_europe, histogram_na, labels = c('', ''))"
   ]
  },
  {
   "cell_type": "markdown",
   "id": "74660a57-2a46-4e52-a5bc-82d6da96aa00",
   "metadata": {},
   "source": [
    "<font color='grey'> Figure 1. Histograms of Salary in Europe and North America <font>"
   ]
  },
  {
   "cell_type": "markdown",
   "id": "28da3573-d540-4f17-8b52-4339a607775f",
   "metadata": {},
   "source": [
    "Now, we provide side-by-side boxplot to look at the spread of salaries for each region."
   ]
  },
  {
   "cell_type": "code",
   "execution_count": null,
   "id": "ad9b825d-af52-4459-87be-b0d3635da775",
   "metadata": {
    "tags": []
   },
   "outputs": [],
   "source": [
    "options(repr.plot.width=10, repr.plot.height=8)\n",
    "boxplot_ds <- ggplot(ds_final, aes(x = location, y = salary_in_usd, fill = location)) +\n",
    "    geom_boxplot() +\n",
    "    theme(text = element_text(size = 22)) +\n",
    "    ylab(\"Salary in USD\") +\n",
    "    ggtitle(\"Side-by-Side Boxplot of Salary\") + \n",
    "    scale_y_continuous(labels = scales::comma)\n",
    "    \n",
    "boxplot_ds"
   ]
  },
  {
   "cell_type": "markdown",
   "id": "2f5b7f63-ee33-48c0-962d-59f0061cfbdc",
   "metadata": {},
   "source": [
    "<font color='grey'> Figure 2: Boxplot of Salaries in Two Different Regions <font>"
   ]
  },
  {
   "cell_type": "markdown",
   "id": "b8707683-ae93-4415-87be-f27a855254ba",
   "metadata": {},
   "source": [
    "**2.3 Data Analysis**\n",
    "\n",
    "In this section, we would conduct analysis to help answer our research question. Based on the sample, we believe that our data come from two independent populations; hence, we would implement techniques and formulas for two independent samples to find confidence interval and do hypothesis testing via both bootstrap and asympototic methods."
   ]
  },
  {
   "cell_type": "markdown",
   "id": "a2e3e872-1199-4e1f-b402-2afe6b31a9e5",
   "metadata": {},
   "source": [
    "**2.3.1 Standard Deviation**\n",
    "\n",
    "Before we conduct the analysis on difference in means, we would like to first investigate the standard deviation for salaries. This would not only provide some insights towards the true standard deviation for the two populations, but also help us to decide whether to choose **equal variance** when finding the standard error formula for asymptotic method.\n",
    "\n",
    "Hence, we would perform the 95% confidence intervals for two population standard deviations of data science job salary via bootstrap method here since it is harder to use the asymptotic method for standard deviation. In the following code, we first set the seed to ensure reproducibility and we get the bootstrap distributions for salary in Europe and North America seperately. Then, we visualize the two bootstrap distributions and the two confidence intervals based on the standard deviation of bootstrap resamples. "
   ]
  },
  {
   "cell_type": "code",
   "execution_count": null,
   "id": "e7959dd1-0caa-4741-8eb7-2e0e2483925f",
   "metadata": {
    "tags": []
   },
   "outputs": [],
   "source": [
    "# set seed to ensure reproducibility\n",
    "set.seed(201)\n",
    "\n",
    "# bootstrap distribution for sd in eur\n",
    "boot_sd_eur <- ds_eur %>% \n",
    "    specify(response = salary_in_usd) %>% \n",
    "    generate(reps = 2000, type = \"bootstrap\") %>%\n",
    "    calculate(stat = \"sd\")\n",
    "\n",
    "# bootstrap distribution for sd in na\n",
    "boot_sd_na <- ds_na %>% \n",
    "    specify(response = salary_in_usd) %>% \n",
    "    generate(reps = 2000, type = \"bootstrap\") %>%\n",
    "    calculate(stat = \"sd\")\n",
    "\n",
    "# combine the two bootstrap distribution together\n",
    "boot_sd_eur$location <- \"Europe\"\n",
    "boot_sd_na$location <- \"North America\"\n",
    "\n",
    "boot_new <- rbind(boot_sd_eur, boot_sd_na)\n",
    "boot_new <- boot_new[, -1]\n",
    "\n",
    "# get two confidence intervals\n",
    "ci_eur <- tibble(lower_ci = quantile(boot_sd_eur$stat, 0.025),\n",
    "                 upper_ci = quantile(boot_sd_eur$stat, 0.975))\n",
    "ci_na <- tibble(lower_ci = quantile(boot_sd_na$stat, 0.025),\n",
    "                 upper_ci = quantile(boot_sd_na$stat, 0.975))\n",
    "\n",
    "# draw the histogram of two bootstrap distribution in a same plot\n",
    "plot_sigma <- ggplot(boot_new, aes(x = stat, fill = location)) +   # Draw overlaying histogram\n",
    "    geom_histogram(position = \"identity\", alpha = 0.6, bins = 70) +\n",
    "    xlab(\"Resampled Standard Deviation\") +\n",
    "    ggtitle(\"Bootstrap Distribution for Standard Deviation for Two Regions\") +\n",
    "    theme(text=element_text(size= 20)) +\n",
    "    annotate(\"rect\", xmin = ci_eur$lower_ci, xmax = ci_eur$upper_ci, ymin = 0, ymax = Inf,\n",
    "             fill = \"red\",\n",
    "             alpha = 0.3) + \n",
    "    annotate(\"rect\", xmin = ci_na$lower_ci, xmax = ci_na$upper_ci, ymin = 0, ymax = Inf,\n",
    "             fill = \"lightblue\",\n",
    "             alpha = 0.5)# Set label size\n",
    "plot_sigma"
   ]
  },
  {
   "cell_type": "markdown",
   "id": "9eb5ea45-ea98-43cd-9330-a393f9d55563",
   "metadata": {},
   "source": [
    "<font color='grey'> Figure 3. Histograms of Bootstrap Distribution of Standard Deviation for Salary in North America and Europe <font>"
   ]
  },
  {
   "cell_type": "markdown",
   "id": "d5bbd111-191c-479d-998d-669265aa6d1d",
   "metadata": {},
   "source": [
    "In the above plot, we have shaded the two 95% confidence intervals for standard deviations of salary use rectangles. We can see that the variation for bootstrap distribution of standard deviations for North America is larger compared with the one for Europe. Also, it is clear that there is no intersection between the two confidence intervals, which is a strong indication that the true standard deviations of salary in North America and Europa are different. This discovery hints that we should assume unequal variance when calculating the Standard Error for difference in mean salary for asympototic method."
   ]
  },
  {
   "cell_type": "markdown",
   "id": "f30b8c32-4c24-46a3-9ec4-8fddb9f88a19",
   "metadata": {},
   "source": [
    "**2.3.2 Confidence Interval**\n",
    "\n",
    "Now, we would perform 95% confidence interval for true mean salary difference $\\mu_{na} - \\mu_{eur}$ to quantify the errors of our estimate."
   ]
  },
  {
   "cell_type": "markdown",
   "id": "8ef14302-451c-46d3-87ba-ac7bbe622d9a",
   "metadata": {},
   "source": [
    "**Confidence Interval by Bootstrap**\n",
    "\n",
    "To start with, we would use bootstrap method, and we generate the bootstrap distribution with repetition of 2000. Then, we calculate the lower tail and upper tail of the confidence interval and plot it on the bootstrap distribution."
   ]
  },
  {
   "cell_type": "code",
   "execution_count": null,
   "id": "1c01363a-7fef-4494-932a-80862b293e4a",
   "metadata": {
    "tags": []
   },
   "outputs": [],
   "source": [
    "# set seed to ensure reproducibility\n",
    "set.seed(201)\n",
    "\n",
    "# first, we get the bootstrap distribution\n",
    "boot_sample <- ds_final %>% \n",
    "   specify(formula = salary_in_usd ~ location) %>% \n",
    "   generate(reps = 2000, type = \"bootstrap\")\n",
    "\n",
    "# calculate the diff in means from bootstrap resamples\n",
    "boot_model <- boot_sample %>%\n",
    "   calculate(stat=\"diff in means\", order = c(\"North America\", \"Europe\"))\n",
    "# get the 95% confidence interval \n",
    "ci_boot <- tibble(lower_ci = quantile(boot_model$stat, 0.025),\n",
    "                  upper_ci = quantile(boot_model$stat, 0.975))\n",
    "# get histogram\n",
    "boot_his <- ggplot(boot_model, aes(x = stat)) + \n",
    "    geom_histogram(binwidth = 1000, colour = \"white\",fill = \"grey\") +\n",
    "    annotate(\"rect\", xmin = ci_boot$lower_ci, xmax = ci_boot$upper_ci, ymin = 0, ymax = Inf,\n",
    "             fill = \"deepskyblue\",\n",
    "             alpha = 0.3) +\n",
    "    labs(title = \"Bootstrap Distribution with 95% Confidence Interval\", # label\n",
    "         x = \"Difference in Mean Salary (USD)\",\n",
    "        y = \"Count\") +\n",
    "    geom_vline(xintercept = ci_boot$lower_ci, color = \"red\", linewidth = 2) + #add the line of lower tail\n",
    "    annotate(\"text\", x = 58000, y = 170, label = \"Lower Tail: \\n 61517.07\", size = 7) + #add annotation\n",
    "    geom_vline(xintercept = ci_boot$upper_ci, color = \"red\", linewidth = 2) + #add the line of upper tail\n",
    "    annotate(\"text\", x = 82600, y = 170, label = \"Upper Tail: \\n 78922.47\", size = 7) + #add annotation\n",
    "    theme_bw() +\n",
    "    theme(text=element_text(size= 20))\n",
    "boot_his\n",
    "ci_boot"
   ]
  },
  {
   "cell_type": "markdown",
   "id": "72e8df63-c60b-4b14-89b2-199809f87cd6",
   "metadata": {},
   "source": [
    "<font color='grey'> Figure 4. Histogram of Bootstrap Distribution of Difference in Mean Salary <font>"
   ]
  },
  {
   "cell_type": "markdown",
   "id": "653b7825-296f-41d6-8d86-d5fc4ca72818",
   "metadata": {},
   "source": [
    "We are 95% confident that true difference in mean salary between North America and Europe is [61517.07, 78922.47] based on the bootstrap simulation.\n",
    "+ explanation\n",
    "\n",
    "Based on the bootstrap simulation,  We have 95% confidence that the difference in the true mean salary between North America and Europe is between 61517.07 and 78922.47 USD.\n"
   ]
  },
  {
   "cell_type": "markdown",
   "id": "c78f43f2-b5ae-4c93-9aa8-6563f01357c1",
   "metadata": {
    "tags": []
   },
   "source": [
    "**Confidence Interval by Asympototic Method**\n",
    "\n",
    "In this part, we would find the 95% confidence interval via asympototic Method. Since we did not know whether the population for salary in North America and Europa follow Normal, it is important to first check the assumptions before we implement the Central Limit Theorem (CLT):\n",
    "\n",
    "1. Independent: Our sample consist of 158 and 388 data from Europe and North America, respectively. By logical thinking, the total number of data science job in Europe and North America should be greater than 1580 and 3880, respectively. Hence, since our two samples are both smaller than 10% of the population, it would be safe to assume independent here.\n",
    "2. Parameter Type: Here as we are dealing with a parameter that is difference in means, which is construct via linear combination of random variables. Hence, we meet the assumption of sum of random variables.\n",
    "3. Sample Size: To use CLT, we need sample size to be large. A common rule of thumb is that the sample size should be larger than 30. Here, our two sample sizes are 158 and 388, which is fairly large to use CLT.\n",
    "\n",
    "Hence, as all the assumptions for CLT are met, it would be safe to use asympototic method now. In the following code, we use build-in R function `t.test` with unequal variance as examined above to calculate the confidence interval."
   ]
  },
  {
   "cell_type": "code",
   "execution_count": null,
   "id": "03695a66-6737-4a3a-8bcd-17de519c9793",
   "metadata": {
    "tags": []
   },
   "outputs": [],
   "source": [
    "# calculate the confidence interval through t.test\n",
    "t_test <- t.test(x = ds_na$salary_in_usd, y = ds_eur$salary_in_usd, var.equal = FALSE)\n",
    "output <- tidy(t_test)\n",
    "\n",
    "# select confidence interval\n",
    "output[c(7,8)]"
   ]
  },
  {
   "cell_type": "markdown",
   "id": "89ada333-b624-4f9d-9715-3f1ad94d7b63",
   "metadata": {},
   "source": [
    "+ interpretation\n",
    "\n",
    "Based on the asymptotic method,  We have 95% confidence that the difference in the true mean salary between North America and Europe is between 61525.29 and 79297.66 USD."
   ]
  },
  {
   "cell_type": "markdown",
   "id": "355930f1-1d27-4ef7-9a08-b4665d815983",
   "metadata": {},
   "source": [
    "**2.3.3 Hypothesis Testing**\n",
    "\n",
    "Here, we would conduct the hypothesis testing with significance level of 5% to see whether there is strong evidence that data science job offer a higher salary in North America than in Europe. \n",
    "\n",
    "\n",
    "**Null Hypothesis (H0)**: there is no difference in the true mean salary between data science jobs in North American and Europe. ($\\mu_{na} = \\mu_{eur}$)\\\n",
    "**Alternative Hypothesis (Ha)**: the true mean salary in North American is higher than the true mean salary in Europe. ($\\mu_{na} > \\mu_{eur}$)\n"
   ]
  },
  {
   "cell_type": "markdown",
   "id": "dbc6c01d-6e40-491b-aa61-b03d720452e3",
   "metadata": {},
   "source": [
    "**Hypothesis Testing by Simulation**\n",
    "\n",
    "Similar to confidence interval, we would use infer package to conduct the hypothesis testing using permutation with 2000 replicates. Then, we would provide the histogram of our null model."
   ]
  },
  {
   "cell_type": "code",
   "execution_count": null,
   "id": "aba6e2c3-f705-4e24-b1c6-3fdfbf3ed4cc",
   "metadata": {
    "tags": []
   },
   "outputs": [],
   "source": [
    "# set seed to ensure reproducibility\n",
    "set.seed(201)\n",
    "\n",
    "# test statistic\n",
    "t <- (table1$mean_wage[2] - table1$mean_wage[1])\n",
    "# we get the null model\n",
    "null_model <- ds_final %>% \n",
    "    specify(formula = salary_in_usd ~ location) %>% \n",
    "    hypothesize(null = \"independence\") %>%\n",
    "    generate(reps = 2000, type = \"permute\") %>%\n",
    "    calculate(stat = \"diff in means\", order = c(\"North America\", \"Europe\"))"
   ]
  },
  {
   "cell_type": "code",
   "execution_count": null,
   "id": "e1f08ab5-0575-497c-bf87-9524e4c9f388",
   "metadata": {
    "tags": []
   },
   "outputs": [],
   "source": [
    "# visualize the null model \n",
    "null_histogram <- null_model %>% \n",
    "    visualize() +\n",
    "    shade_p_value(obs_stat = t, direction = \"right\") + \n",
    "    theme(text=element_text(size= 20)) +\n",
    "    xlab(\"Difference in Mean Salary\") + \n",
    "    annotate(\"text\", x = 55000, y = 350, label = \"Observed Difference\", size = 7)\n",
    "\n",
    "# get the p-value                \n",
    "p_value <- null_model %>%\n",
    "    get_p_value(obs_stat = t, direction = \"right\")\n",
    "\n",
    "null_histogram               "
   ]
  },
  {
   "cell_type": "markdown",
   "id": "98c47ba9-fd51-4c0f-98d8-96047ef558da",
   "metadata": {},
   "source": [
    "<font color='grey'> Figure 5. Histogram of Null Distribution of Difference in Mean Salary Based on Simulation<font>"
   ]
  },
  {
   "cell_type": "markdown",
   "id": "85db1998-d055-4064-b729-b8d82599b5d5",
   "metadata": {},
   "source": [
    "From the graph above, we can see that the simulation result provides a p-value of 0. But it would be very danger to report this since we only did repetition of 2000. Hence, we would conclude is that we reach a p-value smaller than $ \\frac{1}{2000 } (0.0005)$ from simulation based hypothesis testing. This provides strong evidence that we should reject our null hypothesis in favor that the true mean salary in North American is higher than the true mean salary in Europe.  "
   ]
  },
  {
   "cell_type": "markdown",
   "id": "bfa39ff7-fe3b-4b3f-bc9f-e73c74df8f78",
   "metadata": {},
   "source": [
    "**Hypothesis Testing by Asympototic Method**\n",
    "\n",
    "We would now use hypothesis testing based on asypototic method. Again, we would need to rely on CLT. Since we have already check the assumptions above, we can directly use `t.test` in R to perform the two sample t-test, and we would provide null model and visualize the p-value."
   ]
  },
  {
   "cell_type": "code",
   "execution_count": null,
   "id": "ce509f73-3252-4698-9355-d81ed9a37b9b",
   "metadata": {
    "tags": []
   },
   "outputs": [],
   "source": [
    "# NOTE: we directly take output from t-test for Confidence interval as they are the same\n",
    "p_value <- output[,5]\n",
    "\n",
    "# Create the null model \n",
    "t_null_model <-   \n",
    "    ggplot() +\n",
    "    geom_line(data = tibble(x = seq(-16, 16, 0.01), # generate the t-distribution line\n",
    "                            density = dt(x, 517.82)), \n",
    "              aes(x = x, y = density), color = \"black\", lwd = 2) +\n",
    "    ggtitle(\"Null distribution based on CLT\") +\n",
    "    theme(text = element_text(size = 20)) +\n",
    "    geom_vline(xintercept = t/t_test$stderr, color = \"red\", linewidth = 2) + \n",
    "    annotate(\"text\", x = 12, y = 0.35, label = \"Test Statistic\", size = 7) +\n",
    "    annotate(\"text\", x = -5, y = 0.35, label = \"Null Model\", size = 7)\n",
    "\n",
    "p_value\n",
    "t_null_model"
   ]
  },
  {
   "cell_type": "markdown",
   "id": "820bb5d2-f263-4af7-89fb-08c7f4995552",
   "metadata": {},
   "source": [
    "<font color='grey'> Figure 6. Histogram of Null Distribution of Difference in Mean Salary Based on T-Distribution<font>"
   ]
  },
  {
   "cell_type": "markdown",
   "id": "27167e4f-3fb7-4d92-8877-f30f2ebe0b43",
   "metadata": {},
   "source": [
    "Similarly, the p-value we get from asympototic method is very small, meaning that we would again reject the null hypothesis as in simulation-based hypothesis testing. "
   ]
  },
  {
   "cell_type": "markdown",
   "id": "0f9fba5b-c24f-44fc-b5a8-c44d00ee3f73",
   "metadata": {},
   "source": [
    "**2.3.4 Comparision and Results**\n",
    "\n",
    "For confidence interval, we can see that the results provided by bootstrap and asympototic methods are similar, with the one from asympototic being a bit wider. For hypothesis testing, both methods provides very small p-value that would lead to rejection of null hypothesis at any reasonable significance level.\n",
    "We do expect both results to be similar and trustworthy since two methods should would work well with following reasons:\n",
    "    1. Our sample sizes are fairly large, indicating that the sample could be potentially representative.\n",
    "    2. the assumptions for CLT are met, meaning that the asympototic method is appropriate here.\n",
    "    \n",
    "To make conclusion, we decide to report results from asypototic method since it provide a exact value for the p-value while the bootstrap method can only provide a possible range for p-value.\n",
    "\n",
    "Hence, we concluded that the difference in the true mean salary between North America and Europe is between 61525.29 and 79297.66 USD with 95% of confidence; besides, a p-value of $4.24 \\times 10^{-45}$ provides strong evidence that the true mean salary in North American is higher than the true mean salary in Europe.\n",
    "    "
   ]
  },
  {
   "cell_type": "markdown",
   "id": "b9b43c8d-da2c-465a-8249-01994374e950",
   "metadata": {},
   "source": [
    "## 3. Discussion"
   ]
  },
  {
   "cell_type": "markdown",
   "id": "dae7719d-1e9f-46d2-a4f1-87f75b414ccf",
   "metadata": {
    "tags": []
   },
   "source": [
    "For our research question, we have strong evidence to support the claim that data science jobs in North America offer higher salaries than those in Europe based on above analysis. Hence, the result we get matches with the statement made in Data science salary rankings. Also, this result might attract new graduates in data science to go to North America to start their first job. \n",
    "\n",
    "Although this result matches our expection, we think there could be other factors like job type(Data Scientists, Data Engineer), company sizes that has interaction with the location. For example, it might be the case that more large companies are located in North America and they tend to provide a higher salary. In that sense, company size become more important compared with location. Hence, future study could explore factors that impact salaries in data science jointly through methods such as building linear model. "
   ]
  },
  {
   "cell_type": "markdown",
   "id": "d7feae3a-fe86-45ff-85c9-28e68377b0ea",
   "metadata": {},
   "source": [
    "## 4. References\n",
    "\n",
    "Bhatia, R. (2022). Data Science Job Salaries. Kaggle. https://www.kaggle.com/datasets/ruchi798/data-science-job-salaries\n",
    "\n",
    "Ganguli, D. (2021, May 28). Top 10 countries with the highest salaries for data scientists. Analytics Insight. Retrieved April 3, 2023, from https://www.analyticsinsight.net/top-10-countries-with-the-highest-salaries-for-data-scientists/\n",
    "\n",
    "Robinson, E., Nolis, J., & O'Reilly for Higher Education. (2020). Build a career in data science. Manning Publications Co.\n",
    "\n",
    "Situ, W., Zheng, L., Yu, X., & Daneshmand, M. (2017). Predicting the probability and salary to get data science job in top companies. IIE Annual Conference. Proceedings, 933-939."
   ]
  }
 ],
 "metadata": {
  "kernelspec": {
   "display_name": "R",
   "language": "R",
   "name": "ir"
  },
  "language_info": {
   "codemirror_mode": "r",
   "file_extension": ".r",
   "mimetype": "text/x-r-source",
   "name": "R",
   "pygments_lexer": "r",
   "version": "4.2.3"
  }
 },
 "nbformat": 4,
 "nbformat_minor": 5
}
